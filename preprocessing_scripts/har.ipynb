{
 "cells": [
  {
   "cell_type": "code",
   "execution_count": 22,
   "metadata": {},
   "outputs": [],
   "source": [
    "import pandas as pd \n",
    "import numpy as np\n",
    "from ahrs.filters import Madgwick\n",
    "from ahrs.common.orientation import q2euler\n",
    "from tqdm import tqdm as tqdm"
   ]
  },
  {
   "cell_type": "code",
   "execution_count": 16,
   "metadata": {},
   "outputs": [],
   "source": [
    "train_body_acc_x = pd.read_csv('../data/HAR/UCI HAR Dataset/train/Inertial Signals/body_acc_x_train.txt', delim_whitespace=True, header=None)\n",
    "train_body_acc_y = pd.read_csv('../data/HAR/UCI HAR Dataset/train/Inertial Signals/body_acc_y_train.txt', delim_whitespace=True, header=None)\n",
    "train_body_acc_z = pd.read_csv('../data/HAR/UCI HAR Dataset/train/Inertial Signals/body_acc_z_train.txt', delim_whitespace=True, header=None)\n",
    "train_gyro_x = pd.read_csv('../data/HAR/UCI HAR Dataset/train/Inertial Signals/body_gyro_x_train.txt', delim_whitespace=True, header=None)\n",
    "train_gyro_y = pd.read_csv('../data/HAR/UCI HAR Dataset/train/Inertial Signals/body_gyro_y_train.txt', delim_whitespace=True, header=None)\n",
    "train_gyro_z = pd.read_csv('../data/HAR/UCI HAR Dataset/train/Inertial Signals/body_gyro_z_train.txt', delim_whitespace=True, header=None)\n",
    "train_total_acc_x = pd.read_csv('../data/HAR/UCI HAR Dataset/train/Inertial Signals/total_acc_x_train.txt', delim_whitespace=True, header=None)\n",
    "train_total_acc_y = pd.read_csv('../data/HAR/UCI HAR Dataset/train/Inertial Signals/total_acc_y_train.txt', delim_whitespace=True, header=None)\n",
    "train_total_acc_z = pd.read_csv('../data/HAR/UCI HAR Dataset/train/Inertial Signals/total_acc_z_train.txt', delim_whitespace=True, header=None)\n",
    "y_train = pd.read_csv('../data/HAR/UCI HAR Dataset/train/y_train.txt', delim_whitespace=True, header=None)"
   ]
  },
  {
   "cell_type": "code",
   "execution_count": 24,
   "metadata": {},
   "outputs": [
    {
     "name": "stderr",
     "output_type": "stream",
     "text": [
      "100%|██████████| 7352/7352 [05:30<00:00, 22.23it/s]\n"
     ]
    }
   ],
   "source": [
    "# Calculate gravity (assuming total_acc - body_acc)\n",
    "gravity_x = train_total_acc_x - train_body_acc_x\n",
    "gravity_y = train_total_acc_y - train_body_acc_y\n",
    "gravity_z = train_total_acc_z - train_body_acc_z\n",
    "\n",
    "# User acceleration is the same as body acceleration for this purpose\n",
    "user_acc_x = train_body_acc_x\n",
    "user_acc_y = train_body_acc_y\n",
    "user_acc_z = train_body_acc_z\n",
    "\n",
    "# Initialize the Madgwick filter\n",
    "madgwick = Madgwick()\n",
    "\n",
    "num_samples, sample_size = train_body_acc_x.shape\n",
    "features = np.zeros((num_samples, sample_size, 12))  # Placeholder for all features\n",
    "\n",
    "for i in tqdm(range(num_samples)):\n",
    "    for t in range(sample_size):\n",
    "        if t == 0:\n",
    "            # Initialize quaternion to [1, 0, 0, 0] for each sample\n",
    "            q = np.array([1.0, 0.0, 0.0, 0.0])\n",
    "        gyro_data = np.radians([train_gyro_x.iloc[i, t], train_gyro_y.iloc[i, t], train_gyro_z.iloc[i, t]])\n",
    "        acc_data = [train_body_acc_x.iloc[i, t], train_body_acc_y.iloc[i, t], train_body_acc_z.iloc[i, t]]\n",
    "        q = madgwick.updateIMU(q=q, gyr=gyro_data, acc=acc_data)\n",
    "        euler = q2euler(q)  # Convert quaternion to Euler angles (roll, pitch, yaw)\n",
    "        features[i, t, 0:3] = euler  # Attitude (roll, pitch, yaw)\n",
    "        features[i, t, 3:6] = [gravity_x.iloc[i, t], gravity_y.iloc[i, t], gravity_z.iloc[i, t]]  # Gravity\n",
    "        features[i, t, 6:9] = [train_gyro_x.iloc[i, t], train_gyro_y.iloc[i, t], train_gyro_z.iloc[i, t]]  # Rotation Rate\n",
    "        features[i, t, 9:12] = [user_acc_x.iloc[i, t], user_acc_y.iloc[i, t], user_acc_z.iloc[i, t]]  # User Acceleration\n"
   ]
  },
  {
   "cell_type": "code",
   "execution_count": 32,
   "metadata": {},
   "outputs": [
    {
     "name": "stdout",
     "output_type": "stream",
     "text": [
      "(5945, 128, 12) (5945, 1)\n"
     ]
    }
   ],
   "source": [
    "label_map = {\n",
    "    3:0,\n",
    "    2:1,\n",
    "    1:2,\n",
    "    5:4,\n",
    "    4:5,\n",
    "}\n",
    "\n",
    "# Save the features\n",
    "\n",
    "#only keep samples with labels that are 1-5\n",
    "mask = y_train[0] < 6\n",
    "features_ = features[mask]\n",
    "y_train_ = y_train[mask]\n",
    "\n",
    "# change the labels based on the label_map\n",
    "y_train_ = y_train_.replace(label_map)\n",
    "\n",
    "np.save('../data/HAR/train_data.npy', features_)\n",
    "np.save('../data/HAR/train_labels.npy', y_train_)\n",
    "\n",
    "print(features_.shape, y_train_.shape)\n"
   ]
  },
  {
   "cell_type": "code",
   "execution_count": 29,
   "metadata": {},
   "outputs": [],
   "source": [
    "# Load the test data\n",
    "test_body_acc_x = pd.read_csv('../data/HAR/UCI HAR Dataset/test/Inertial Signals/body_acc_x_test.txt', delim_whitespace=True, header=None)\n",
    "test_body_acc_y = pd.read_csv('../data/HAR/UCI HAR Dataset/test/Inertial Signals/body_acc_y_test.txt', delim_whitespace=True, header=None)\n",
    "test_body_acc_z = pd.read_csv('../data/HAR/UCI HAR Dataset/test/Inertial Signals/body_acc_z_test.txt', delim_whitespace=True, header=None)\n",
    "test_gyro_x = pd.read_csv('../data/HAR/UCI HAR Dataset/test/Inertial Signals/body_gyro_x_test.txt', delim_whitespace=True, header=None)\n",
    "test_gyro_y = pd.read_csv('../data/HAR/UCI HAR Dataset/test/Inertial Signals/body_gyro_y_test.txt', delim_whitespace=True, header=None)\n",
    "test_gyro_z = pd.read_csv('../data/HAR/UCI HAR Dataset/test/Inertial Signals/body_gyro_z_test.txt', delim_whitespace=True, header=None)\n",
    "test_total_acc_x = pd.read_csv('../data/HAR/UCI HAR Dataset/test/Inertial Signals/total_acc_x_test.txt', delim_whitespace=True, header=None)\n",
    "test_total_acc_y = pd.read_csv('../data/HAR/UCI HAR Dataset/test/Inertial Signals/total_acc_y_test.txt', delim_whitespace=True, header=None)\n",
    "test_total_acc_z = pd.read_csv('../data/HAR/UCI HAR Dataset/test/Inertial Signals/total_acc_z_test.txt', delim_whitespace=True, header=None)\n",
    "y_test = pd.read_csv('../data/HAR/UCI HAR Dataset/test/y_test.txt', delim_whitespace=True, header=None)"
   ]
  },
  {
   "cell_type": "code",
   "execution_count": 30,
   "metadata": {},
   "outputs": [
    {
     "name": "stderr",
     "output_type": "stream",
     "text": [
      "100%|██████████| 2947/2947 [02:11<00:00, 22.34it/s]\n"
     ]
    }
   ],
   "source": [
    "# Calculate gravity (assuming total_acc - body_acc)\n",
    "gravity_x = test_total_acc_x - test_body_acc_x\n",
    "gravity_y = test_total_acc_y - test_body_acc_y\n",
    "gravity_z = test_total_acc_z - test_body_acc_z\n",
    "\n",
    "# User acceleration is the same as body acceleration for this purpose\n",
    "user_acc_x = test_body_acc_x\n",
    "user_acc_y = test_body_acc_y\n",
    "user_acc_z = test_body_acc_z\n",
    "\n",
    "# Initialize the Madgwick filter\n",
    "madgwick = Madgwick()\n",
    "\n",
    "num_samples, sample_size = test_body_acc_x.shape\n",
    "features = np.zeros((num_samples, sample_size, 12))  # Placeholder for all features\n",
    "\n",
    "for i in tqdm(range(num_samples)):\n",
    "    for t in range(sample_size):\n",
    "        if t == 0:\n",
    "            # Initialize quaternion to [1, 0, 0, 0] for each sample\n",
    "            q = np.array([1.0, 0.0, 0.0, 0.0])\n",
    "        gyro_data = np.radians([test_gyro_x.iloc[i, t], test_gyro_y.iloc[i, t], test_gyro_z.iloc[i, t]])\n",
    "        acc_data = [test_body_acc_x.iloc[i, t], test_body_acc_y.iloc[i, t], test_body_acc_z.iloc[i, t]]\n",
    "        q = madgwick.updateIMU(q=q, gyr=gyro_data, acc=acc_data)\n",
    "        euler = q2euler(q)  # Convert quaternion to Euler angles (roll, pitch, yaw)\n",
    "        features[i, t, 0:3] = euler  # Attitude (roll, pitch, yaw)\n",
    "        features[i, t, 3:6] = [gravity_x.iloc[i, t], gravity_y.iloc[i, t], gravity_z.iloc[i, t]]  # Gravity\n",
    "        features[i, t, 6:9] = [test_gyro_x.iloc[i, t], test_gyro_y.iloc[i, t], test_gyro_z.iloc[i, t]]  # Rotation Rate\n",
    "        features[i, t, 9:12] = [user_acc_x.iloc[i, t], user_acc_y.iloc[i, t], user_acc_z.iloc[i, t]]  # User Acceleration"
   ]
  },
  {
   "cell_type": "code",
   "execution_count": 33,
   "metadata": {},
   "outputs": [
    {
     "name": "stdout",
     "output_type": "stream",
     "text": [
      "(2410, 128, 12) (2410, 1)\n"
     ]
    }
   ],
   "source": [
    "# Save the features\n",
    "\n",
    "#only keep samples with labels that are 1-5\n",
    "mask = y_test[0] < 6\n",
    "features_ = features[mask]\n",
    "y_test_ = y_test[mask]\n",
    "\n",
    "# change the labels based on the label_map\n",
    "y_test_ = y_test_.replace(label_map)\n",
    "\n",
    "\n",
    "np.save('../data/HAR/test_data.npy', features_)\n",
    "np.save('../data/HAR/test_labels.npy', y_test_)\n",
    "\n",
    "print(features_.shape, y_test_.shape)\n"
   ]
  },
  {
   "cell_type": "markdown",
   "metadata": {},
   "source": [
    "#### Merge datasets"
   ]
  },
  {
   "cell_type": "code",
   "execution_count": 38,
   "metadata": {},
   "outputs": [
    {
     "name": "stdout",
     "output_type": "stream",
     "text": [
      "(5945, 128, 12) (5945, 1) (2410, 128, 12) (2410, 1)\n",
      "(29389, 128, 12) (29389, 4) (7227, 128, 12) (7227, 4)\n",
      "(5945, 4) (2410, 4)\n",
      "(35334, 128, 12) (35334, 4) (9637, 128, 12) (9637, 4)\n"
     ]
    }
   ],
   "source": [
    "# har data\n",
    "har_train = np.load('../data/HAR/train_data.npy')\n",
    "har_train_labels = np.load('../data/HAR/train_labels.npy')\n",
    "har_test = np.load('../data/HAR/test_data.npy')\n",
    "har_test_labels = np.load('../data/HAR/test_labels.npy')\n",
    "\n",
    "print(har_train.shape, har_train_labels.shape, har_test.shape, har_test_labels.shape)\n",
    "\n",
    "# motionsense data\n",
    "motionsense_train = np.load('../data/MotionSense/train_data.npy')\n",
    "motionsense_train_labels = np.load('../data/MotionSense/train_labels.npy')\n",
    "motionsense_test = np.load('../data/MotionSense/test_data.npy')\n",
    "motionsense_test_labels = np.load('../data/MotionSense/test_labels.npy')\n",
    "motionsense_val = np.load('../data/MotionSense/val_data.npy')\n",
    "motionsense_val_labels = np.load('../data/MotionSense/val_labels.npy')\n",
    "\n",
    "\n",
    "print(motionsense_train.shape, motionsense_train_labels.shape, motionsense_test.shape, motionsense_test_labels.shape)\n",
    "\n",
    "# pad har_labels with 0's to match the length of motionsense_labels,har shape is (n, 1), to (n, 4)\n",
    "har_test_labels = np.pad(har_test_labels, ((0, 0), (0, 3)))\n",
    "har_train_labels = np.pad(har_train_labels, ((0, 0), (0, 3)))\n",
    "\n",
    "print(har_train_labels.shape, har_test_labels.shape)\n",
    "\n",
    "# combine the data\n",
    "combined_train = np.concatenate((har_train, motionsense_train), axis=0)\n",
    "combined_train_labels = np.concatenate((har_train_labels, motionsense_train_labels), axis=0)\n",
    "combined_test = np.concatenate((har_test, motionsense_test), axis=0)\n",
    "combined_test_labels = np.concatenate((har_test_labels, motionsense_test_labels), axis=0)\n",
    "\n",
    "print(combined_train.shape, combined_train_labels.shape, combined_test.shape, combined_test_labels.shape)\n",
    "\n",
    "import os\n",
    "os.makedirs('../data/combined', exist_ok=True)\n",
    "\n",
    "np.save('../data/combined/train_data.npy', combined_train)\n",
    "np.save('../data/combined/train_labels.npy', combined_train_labels)\n",
    "np.save('../data/combined/test_data.npy', combined_test)\n",
    "np.save('../data/combined/test_labels.npy', combined_test_labels)\n",
    "np.save('../data/combined/val_data.npy', motionsense_val)\n",
    "np.save('../data/combined/val_labels.npy', motionsense_val_labels)\n"
   ]
  }
 ],
 "metadata": {
  "kernelspec": {
   "display_name": "I-JEPA",
   "language": "python",
   "name": "python3"
  },
  "language_info": {
   "codemirror_mode": {
    "name": "ipython",
    "version": 3
   },
   "file_extension": ".py",
   "mimetype": "text/x-python",
   "name": "python",
   "nbconvert_exporter": "python",
   "pygments_lexer": "ipython3",
   "version": "3.9.16"
  }
 },
 "nbformat": 4,
 "nbformat_minor": 2
}
