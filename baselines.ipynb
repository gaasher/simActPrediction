{
 "cells": [
  {
   "cell_type": "code",
   "execution_count": 2,
   "metadata": {},
   "outputs": [],
   "source": [
    "import pandas as pd\n",
    "import numpy as np\n",
    "import zarr\n",
    "from sklearn.linear_model import LogisticRegression\n",
    "from sklearn.metrics import f1_score"
   ]
  },
  {
   "cell_type": "markdown",
   "metadata": {},
   "source": [
    "### Baseline models for property prediction"
   ]
  },
  {
   "cell_type": "code",
   "execution_count": 2,
   "metadata": {},
   "outputs": [],
   "source": [
    "#sim AP\n",
    "X_train = zarr.open('./data/zarr/train_data.zarr/')\n",
    "y_train = zarr.open('./data/zarr/train_labels.zarr/')\n",
    "\n",
    "X_test = zarr.open('./data/zarr/test_data.zarr/')\n",
    "y_test = zarr.open('./data/zarr/test_labels.zarr/')\n",
    "\n",
    "X_val = zarr.open('./data/zarr/val_data.zarr/')\n",
    "y_val = zarr.open('./data/zarr/val_labels.zarr/')\n",
    "\n",
    "#make data into numpy arrays\n",
    "X_train = np.array(X_train)\n",
    "y_train = np.array(y_train)\n",
    "\n",
    "X_test = np.array(X_test)\n",
    "y_test = np.array(y_test)\n",
    "\n",
    "X_val = np.array(X_val)\n",
    "y_val = np.array(y_val)"
   ]
  },
  {
   "cell_type": "code",
   "execution_count": 11,
   "metadata": {},
   "outputs": [],
   "source": [
    "#load data for NIH\n",
    "train_nih = np.load('./data/processed_datasets/nih_train.npy', allow_pickle=True)\n",
    "test_nih = np.load('./data/processed_datasets/nih_test.npy', allow_pickle=True)\n",
    "\n",
    "# x is the first 12 channels, y is last channel\n",
    "X_train = train_nih[:,:, :12]\n",
    "y_train = train_nih[:,0,-1]\n",
    "y_train = y_train.astype(int)\n",
    "\n",
    "X_test = test_nih[:,:, :12]\n",
    "y_test = test_nih[:,0,-1]\n",
    "y_test = y_test.astype(int)"
   ]
  },
  {
   "cell_type": "code",
   "execution_count": 12,
   "metadata": {},
   "outputs": [
    {
     "name": "stdout",
     "output_type": "stream",
     "text": [
      "(51408, 768) (51408,)\n"
     ]
    }
   ],
   "source": [
    "# reshape data so that it is 2D\n",
    "X_train = X_train.reshape(X_train.shape[0], -1)\n",
    "X_test = X_test.reshape(X_test.shape[0], -1)\n",
    "\n",
    "print(X_train.shape, y_train.shape)"
   ]
  },
  {
   "cell_type": "code",
   "execution_count": 13,
   "metadata": {},
   "outputs": [
    {
     "name": "stderr",
     "output_type": "stream",
     "text": [
      "c:\\Users\\gabri\\anaconda3\\envs\\I-JEPA\\lib\\site-packages\\sklearn\\linear_model\\_logistic.py:460: ConvergenceWarning: lbfgs failed to converge (status=1):\n",
      "STOP: TOTAL NO. of ITERATIONS REACHED LIMIT.\n",
      "\n",
      "Increase the number of iterations (max_iter) or scale the data as shown in:\n",
      "    https://scikit-learn.org/stable/modules/preprocessing.html\n",
      "Please also refer to the documentation for alternative solver options:\n",
      "    https://scikit-learn.org/stable/modules/linear_model.html#logistic-regression\n",
      "  n_iter_i = _check_optimize_result(\n"
     ]
    },
    {
     "name": "stdout",
     "output_type": "stream",
     "text": [
      "Test accuracy:  0.28815242911323824\n",
      "Test F1:  0.2594963252330298\n"
     ]
    }
   ],
   "source": [
    "## Try simple logistic regression\n",
    "clf = LogisticRegression(random_state=0).fit(X_train, y_train)\n",
    "test_acc =  clf.score(X_test, y_test)\n",
    "test_f1 = f1_score(y_test, clf.predict(X_test), average='weighted')\n",
    "\n",
    "\n",
    "print('Test accuracy: ', test_acc)\n",
    "print('Test F1: ', test_f1)"
   ]
  },
  {
   "cell_type": "code",
   "execution_count": 16,
   "metadata": {},
   "outputs": [
    {
     "name": "stdout",
     "output_type": "stream",
     "text": [
      "Test accuracy:  0.3238215640238396\n",
      "Test F1:  0.22878850527595546\n"
     ]
    }
   ],
   "source": [
    "## Try svm \n",
    "from sklearn import svm\n",
    "clf = svm.SVC()\n",
    "clf.fit(X_train, y_train)\n",
    "test_acc = clf.score(X_test, y_test)\n",
    "test_f1 = f1_score(y_test, clf.predict(X_test), average='weighted')\n",
    "\n",
    "print('Test accuracy: ', test_acc)\n",
    "print('Test F1: ', test_f1)"
   ]
  },
  {
   "cell_type": "code",
   "execution_count": 15,
   "metadata": {},
   "outputs": [
    {
     "name": "stdout",
     "output_type": "stream",
     "text": [
      "Test accuracy:  0.33845042441755463\n",
      "Test F1:  0.12494809146476883\n"
     ]
    }
   ],
   "source": [
    "# try random forest\n",
    "from sklearn.ensemble import RandomForestClassifier\n",
    "clf = RandomForestClassifier(n_estimators=100)\n",
    "clf.fit(X_train, y_train)\n",
    "test_acc = clf.score(X_test, y_test)\n",
    "\n",
    "# try f1 score\n",
    "y_pred = clf.predict(X_test)\n",
    "test_f1 = f1_score(y_test, y_pred, average='macro')\n",
    "\n",
    "\n",
    "print('Test accuracy: ', test_acc)\n",
    "print('Test F1: ', test_f1)\n"
   ]
  },
  {
   "cell_type": "code",
   "execution_count": 18,
   "metadata": {},
   "outputs": [
    {
     "name": "stdout",
     "output_type": "stream",
     "text": [
      "Test accuracy:  0.37971825898500994\n",
      "Test F1:  0.1470022448543839\n"
     ]
    }
   ],
   "source": [
    "# mlp classifier\n",
    "from sklearn.neural_network import MLPClassifier\n",
    "clf = MLPClassifier(random_state=1, max_iter=300).fit(X_train, y_train)\n",
    "test_acc= clf.score(X_test, y_test)\n",
    "test_f1 = f1_score(y_test, clf.predict(X_test), average='macro')\n",
    "\n",
    "print('Test accuracy: ', test_acc)\n",
    "print('Test F1: ', test_f1)"
   ]
  },
  {
   "cell_type": "code",
   "execution_count": 20,
   "metadata": {},
   "outputs": [
    {
     "data": {
      "text/plain": [
       "0.9369927031295742"
      ]
     },
     "execution_count": 20,
     "metadata": {},
     "output_type": "execute_result"
    }
   ],
   "source": []
  }
 ],
 "metadata": {
  "kernelspec": {
   "display_name": "I-JEPA",
   "language": "python",
   "name": "python3"
  },
  "language_info": {
   "codemirror_mode": {
    "name": "ipython",
    "version": 3
   },
   "file_extension": ".py",
   "mimetype": "text/x-python",
   "name": "python",
   "nbconvert_exporter": "python",
   "pygments_lexer": "ipython3",
   "version": "3.9.16"
  }
 },
 "nbformat": 4,
 "nbformat_minor": 2
}
